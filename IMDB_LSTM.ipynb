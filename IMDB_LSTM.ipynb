{
  "cells": [
    {
      "cell_type": "markdown",
      "metadata": {
        "id": "view-in-github",
        "colab_type": "text"
      },
      "source": [
        "<a href=\"https://colab.research.google.com/github/naimish75/Sentiment-Analysis-on-IMDB-Reviews/blob/main/IMDB_LSTM.ipynb\" target=\"_parent\"><img src=\"https://colab.research.google.com/assets/colab-badge.svg\" alt=\"Open In Colab\"/></a>"
      ]
    },
    {
      "cell_type": "markdown",
      "metadata": {
        "id": "jDhleVqWVGpR"
      },
      "source": [
        "# Performing Sentiment Analysis On IMDB Reviews Using Bi-directional LSTMs"
      ]
    },
    {
      "cell_type": "markdown",
      "metadata": {
        "id": "Z0cJnmZNVGpV"
      },
      "source": [
        "## Importing required libraries for the project"
      ]
    },
    {
      "cell_type": "code",
      "execution_count": null,
      "metadata": {
        "colab": {
          "base_uri": "https://localhost:8080/"
        },
        "id": "3jdn0TGsdReF",
        "outputId": "d8f1922c-fe94-48b8-b19a-bcc8606fd3ea"
      },
      "outputs": [
        {
          "name": "stderr",
          "output_type": "stream",
          "text": [
            "[nltk_data] Downloading package wordnet to\n",
            "[nltk_data]     /Users/gauravshetty/nltk_data...\n",
            "2024-01-06 20:14:18.968836: I tensorflow/core/platform/cpu_feature_guard.cc:182] This TensorFlow binary is optimized to use available CPU instructions in performance-critical operations.\n",
            "To enable the following instructions: AVX2 FMA, in other operations, rebuild TensorFlow with the appropriate compiler flags.\n",
            "[nltk_data] Downloading package stopwords to\n",
            "[nltk_data]     /Users/gauravshetty/nltk_data...\n",
            "[nltk_data]   Unzipping corpora/stopwords.zip.\n",
            "[nltk_data] Downloading package punkt to\n",
            "[nltk_data]     /Users/gauravshetty/nltk_data...\n",
            "[nltk_data]   Unzipping tokenizers/punkt.zip.\n"
          ]
        }
      ],
      "source": [
        "import numpy as np\n",
        "import pandas as pd\n",
        "import re\n",
        "import nltk\n",
        "from nltk.corpus import stopwords\n",
        "from nltk.tokenize import word_tokenize\n",
        "from nltk.stem import WordNetLemmatizer\n",
        "nltk.download('wordnet')\n",
        "nltk.download('stopwords')\n",
        "nltk.download('punkt')\n",
        "\n",
        "from sklearn.model_selection import train_test_split\n",
        "from sklearn.metrics import accuracy_score\n",
        "from keras.models import Sequential\n",
        "from keras.layers import LSTM, Bidirectional\n",
        "\n",
        "from tensorflow.keras.layers import Embedding, Dropout, Dense, Bidirectional, LSTM\n",
        "from tensorflow.keras.preprocessing.text import one_hot\n",
        "from tensorflow.keras.models import Sequential\n",
        "from tensorflow.keras.preprocessing.sequence import pad_sequences"
      ]
    },
    {
      "cell_type": "markdown",
      "metadata": {
        "id": "6KwqZf4yVGpY"
      },
      "source": [
        "## Importing the dataset\n",
        "\n",
        "Here we import the IMDB dataset. The dataset contains 2 columns. The first column is the review in the form of strings and the next is the sentiment which is our target variable. The reviews are divided into 2 sentiments 'Positive' and 'Negative'.\n",
        "\n",
        "Dataset Link: https://www.kaggle.com/datasets/lakshmi25npathi/imdb-dataset-of-50k-movie-reviews?resource=download"
      ]
    },
    {
      "cell_type": "code",
      "execution_count": null,
      "metadata": {
        "colab": {
          "base_uri": "https://localhost:8080/",
          "height": 424
        },
        "id": "pwz_EmLRdpeh",
        "outputId": "a246abc0-ae18-44c3-acf6-c634405a06f2"
      },
      "outputs": [
        {
          "data": {
            "text/html": [
              "<div>\n",
              "<style scoped>\n",
              "    .dataframe tbody tr th:only-of-type {\n",
              "        vertical-align: middle;\n",
              "    }\n",
              "\n",
              "    .dataframe tbody tr th {\n",
              "        vertical-align: top;\n",
              "    }\n",
              "\n",
              "    .dataframe thead th {\n",
              "        text-align: right;\n",
              "    }\n",
              "</style>\n",
              "<table border=\"1\" class=\"dataframe\">\n",
              "  <thead>\n",
              "    <tr style=\"text-align: right;\">\n",
              "      <th></th>\n",
              "      <th>review</th>\n",
              "      <th>sentiment</th>\n",
              "    </tr>\n",
              "  </thead>\n",
              "  <tbody>\n",
              "    <tr>\n",
              "      <th>0</th>\n",
              "      <td>One of the other reviewers has mentioned that ...</td>\n",
              "      <td>positive</td>\n",
              "    </tr>\n",
              "    <tr>\n",
              "      <th>1</th>\n",
              "      <td>A wonderful little production. &lt;br /&gt;&lt;br /&gt;The...</td>\n",
              "      <td>positive</td>\n",
              "    </tr>\n",
              "    <tr>\n",
              "      <th>2</th>\n",
              "      <td>I thought this was a wonderful way to spend ti...</td>\n",
              "      <td>positive</td>\n",
              "    </tr>\n",
              "    <tr>\n",
              "      <th>3</th>\n",
              "      <td>Basically there's a family where a little boy ...</td>\n",
              "      <td>negative</td>\n",
              "    </tr>\n",
              "    <tr>\n",
              "      <th>4</th>\n",
              "      <td>Petter Mattei's \"Love in the Time of Money\" is...</td>\n",
              "      <td>positive</td>\n",
              "    </tr>\n",
              "    <tr>\n",
              "      <th>...</th>\n",
              "      <td>...</td>\n",
              "      <td>...</td>\n",
              "    </tr>\n",
              "    <tr>\n",
              "      <th>49995</th>\n",
              "      <td>I thought this movie did a down right good job...</td>\n",
              "      <td>positive</td>\n",
              "    </tr>\n",
              "    <tr>\n",
              "      <th>49996</th>\n",
              "      <td>Bad plot, bad dialogue, bad acting, idiotic di...</td>\n",
              "      <td>negative</td>\n",
              "    </tr>\n",
              "    <tr>\n",
              "      <th>49997</th>\n",
              "      <td>I am a Catholic taught in parochial elementary...</td>\n",
              "      <td>negative</td>\n",
              "    </tr>\n",
              "    <tr>\n",
              "      <th>49998</th>\n",
              "      <td>I'm going to have to disagree with the previou...</td>\n",
              "      <td>negative</td>\n",
              "    </tr>\n",
              "    <tr>\n",
              "      <th>49999</th>\n",
              "      <td>No one expects the Star Trek movies to be high...</td>\n",
              "      <td>negative</td>\n",
              "    </tr>\n",
              "  </tbody>\n",
              "</table>\n",
              "<p>50000 rows × 2 columns</p>\n",
              "</div>"
            ],
            "text/plain": [
              "                                                  review sentiment\n",
              "0      One of the other reviewers has mentioned that ...  positive\n",
              "1      A wonderful little production. <br /><br />The...  positive\n",
              "2      I thought this was a wonderful way to spend ti...  positive\n",
              "3      Basically there's a family where a little boy ...  negative\n",
              "4      Petter Mattei's \"Love in the Time of Money\" is...  positive\n",
              "...                                                  ...       ...\n",
              "49995  I thought this movie did a down right good job...  positive\n",
              "49996  Bad plot, bad dialogue, bad acting, idiotic di...  negative\n",
              "49997  I am a Catholic taught in parochial elementary...  negative\n",
              "49998  I'm going to have to disagree with the previou...  negative\n",
              "49999  No one expects the Star Trek movies to be high...  negative\n",
              "\n",
              "[50000 rows x 2 columns]"
            ]
          },
          "execution_count": 3,
          "metadata": {},
          "output_type": "execute_result"
        }
      ],
      "source": [
        "df = pd. read_csv('IMDB Dataset.csv')\n",
        "df"
      ]
    },
    {
      "cell_type": "code",
      "execution_count": null,
      "metadata": {
        "colab": {
          "base_uri": "https://localhost:8080/"
        },
        "id": "CK_vJqYnd3pn",
        "outputId": "6456f477-d6bc-4c6c-e49e-6888879c7d3d"
      },
      "outputs": [
        {
          "name": "stdout",
          "output_type": "stream",
          "text": [
            "<class 'pandas.core.frame.DataFrame'>\n",
            "RangeIndex: 50000 entries, 0 to 49999\n",
            "Data columns (total 2 columns):\n",
            " #   Column     Non-Null Count  Dtype \n",
            "---  ------     --------------  ----- \n",
            " 0   review     50000 non-null  object\n",
            " 1   sentiment  50000 non-null  object\n",
            "dtypes: object(2)\n",
            "memory usage: 781.4+ KB\n"
          ]
        }
      ],
      "source": [
        "df.info()"
      ]
    },
    {
      "cell_type": "markdown",
      "metadata": {
        "id": "oU1lHvqIVGpZ"
      },
      "source": [
        "## Pre-processing the data\n",
        "\n",
        "Before giving the data as input to the neural network, we have to first pre-process the data so that it is compatible with our neural network model.\n",
        "\n",
        "We start of by replacing our target variable with '1' and '0' for 'Positve' and 'Negative' respectively."
      ]
    },
    {
      "cell_type": "code",
      "execution_count": null,
      "metadata": {
        "colab": {
          "base_uri": "https://localhost:8080/",
          "height": 363
        },
        "id": "UAtITS6LeBgW",
        "outputId": "bbc5e4ea-a481-44a3-fc63-74d9232a7dcb"
      },
      "outputs": [
        {
          "data": {
            "text/html": [
              "<div>\n",
              "<style scoped>\n",
              "    .dataframe tbody tr th:only-of-type {\n",
              "        vertical-align: middle;\n",
              "    }\n",
              "\n",
              "    .dataframe tbody tr th {\n",
              "        vertical-align: top;\n",
              "    }\n",
              "\n",
              "    .dataframe thead th {\n",
              "        text-align: right;\n",
              "    }\n",
              "</style>\n",
              "<table border=\"1\" class=\"dataframe\">\n",
              "  <thead>\n",
              "    <tr style=\"text-align: right;\">\n",
              "      <th></th>\n",
              "      <th>review</th>\n",
              "      <th>sentiment</th>\n",
              "    </tr>\n",
              "  </thead>\n",
              "  <tbody>\n",
              "    <tr>\n",
              "      <th>0</th>\n",
              "      <td>One of the other reviewers has mentioned that ...</td>\n",
              "      <td>1</td>\n",
              "    </tr>\n",
              "    <tr>\n",
              "      <th>1</th>\n",
              "      <td>A wonderful little production. &lt;br /&gt;&lt;br /&gt;The...</td>\n",
              "      <td>1</td>\n",
              "    </tr>\n",
              "    <tr>\n",
              "      <th>2</th>\n",
              "      <td>I thought this was a wonderful way to spend ti...</td>\n",
              "      <td>1</td>\n",
              "    </tr>\n",
              "    <tr>\n",
              "      <th>3</th>\n",
              "      <td>Basically there's a family where a little boy ...</td>\n",
              "      <td>0</td>\n",
              "    </tr>\n",
              "    <tr>\n",
              "      <th>4</th>\n",
              "      <td>Petter Mattei's \"Love in the Time of Money\" is...</td>\n",
              "      <td>1</td>\n",
              "    </tr>\n",
              "    <tr>\n",
              "      <th>5</th>\n",
              "      <td>Probably my all-time favorite movie, a story o...</td>\n",
              "      <td>1</td>\n",
              "    </tr>\n",
              "    <tr>\n",
              "      <th>6</th>\n",
              "      <td>I sure would like to see a resurrection of a u...</td>\n",
              "      <td>1</td>\n",
              "    </tr>\n",
              "    <tr>\n",
              "      <th>7</th>\n",
              "      <td>This show was an amazing, fresh &amp; innovative i...</td>\n",
              "      <td>0</td>\n",
              "    </tr>\n",
              "    <tr>\n",
              "      <th>8</th>\n",
              "      <td>Encouraged by the positive comments about this...</td>\n",
              "      <td>0</td>\n",
              "    </tr>\n",
              "    <tr>\n",
              "      <th>9</th>\n",
              "      <td>If you like original gut wrenching laughter yo...</td>\n",
              "      <td>1</td>\n",
              "    </tr>\n",
              "  </tbody>\n",
              "</table>\n",
              "</div>"
            ],
            "text/plain": [
              "                                              review  sentiment\n",
              "0  One of the other reviewers has mentioned that ...          1\n",
              "1  A wonderful little production. <br /><br />The...          1\n",
              "2  I thought this was a wonderful way to spend ti...          1\n",
              "3  Basically there's a family where a little boy ...          0\n",
              "4  Petter Mattei's \"Love in the Time of Money\" is...          1\n",
              "5  Probably my all-time favorite movie, a story o...          1\n",
              "6  I sure would like to see a resurrection of a u...          1\n",
              "7  This show was an amazing, fresh & innovative i...          0\n",
              "8  Encouraged by the positive comments about this...          0\n",
              "9  If you like original gut wrenching laughter yo...          1"
            ]
          },
          "execution_count": 8,
          "metadata": {},
          "output_type": "execute_result"
        }
      ],
      "source": [
        "df.sentiment.replace('positive',1,inplace=True)\n",
        "df.sentiment.replace('negative',0,inplace=True)\n",
        "df.head(10)"
      ]
    },
    {
      "cell_type": "code",
      "execution_count": null,
      "metadata": {
        "colab": {
          "base_uri": "https://localhost:8080/"
        },
        "id": "iUxk3h2Ed8J3",
        "outputId": "f4958d19-fc29-43e9-9829-a661a6229b1a"
      },
      "outputs": [
        {
          "data": {
            "text/plain": [
              "1    25000\n",
              "0    25000\n",
              "Name: sentiment, dtype: int64"
            ]
          },
          "execution_count": 9,
          "metadata": {},
          "output_type": "execute_result"
        }
      ],
      "source": [
        "df.sentiment.value_counts()"
      ]
    },
    {
      "cell_type": "markdown",
      "metadata": {
        "id": "6ShLe3UyVGpb"
      },
      "source": [
        "Here we remove any HTML tags present in the string"
      ]
    },
    {
      "cell_type": "code",
      "execution_count": null,
      "metadata": {
        "colab": {
          "base_uri": "https://localhost:8080/",
          "height": 183
        },
        "id": "NU6IVY0HeEWW",
        "outputId": "9798935e-6025-4640-c0c0-dd75cbd9d9f8"
      },
      "outputs": [
        {
          "data": {
            "text/plain": [
              "\"One of the other reviewers has mentioned that after watching just 1 Oz episode you'll be hooked. They are right, as this is exactly what happened with me.The first thing that struck me about Oz was its brutality and unflinching scenes of violence, which set in right from the word GO. Trust me, this is not a show for the faint hearted or timid. This show pulls no punches with regards to drugs, sex or violence. Its is hardcore, in the classic use of the word.It is called OZ as that is the nickname given to the Oswald Maximum Security State Penitentary. It focuses mainly on Emerald City, an experimental section of the prison where all the cells have glass fronts and face inwards, so privacy is not high on the agenda. Em City is home to many..Aryans, Muslims, gangstas, Latinos, Christians, Italians, Irish and more....so scuffles, death stares, dodgy dealings and shady agreements are never far away.I would say the main appeal of the show is due to the fact that it goes where other shows wouldn't dare. Forget pretty pictures painted for mainstream audiences, forget charm, forget romance...OZ doesn't mess around. The first episode I ever saw struck me as so nasty it was surreal, I couldn't say I was ready for it, but as I watched more, I developed a taste for Oz, and got accustomed to the high levels of graphic violence. Not just violence, but injustice (crooked guards who'll be sold out for a nickel, inmates who'll kill on order and get away with it, well mannered, middle class inmates being turned into prison bitches due to their lack of street skills or prison experience) Watching Oz, you may become comfortable with what is uncomfortable viewing....thats if you can get in touch with your darker side.\""
            ]
          },
          "execution_count": 10,
          "metadata": {},
          "output_type": "execute_result"
        }
      ],
      "source": [
        "def clean(text):\n",
        "    cleaned = re.compile(r'<.*?>')\n",
        "    return re.sub(cleaned,'',text)\n",
        "\n",
        "df.review = df.review.apply(clean)\n",
        "df.review[0]"
      ]
    },
    {
      "cell_type": "markdown",
      "metadata": {
        "id": "oYhyuOKCVGpb"
      },
      "source": [
        "We then remove any special characters and numeric data present in the string"
      ]
    },
    {
      "cell_type": "code",
      "execution_count": null,
      "metadata": {
        "colab": {
          "base_uri": "https://localhost:8080/",
          "height": 183
        },
        "id": "kztdQ31ieGYY",
        "outputId": "08d56010-ac54-45a5-f623-5a0b38502801"
      },
      "outputs": [
        {
          "data": {
            "text/plain": [
              "'One of the other reviewers has mentioned that after watching just   Oz episode you ll be hooked  They are right  as this is exactly what happened with me The first thing that struck me about Oz was its brutality and unflinching scenes of violence  which set in right from the word GO  Trust me  this is not a show for the faint hearted or timid  This show pulls no punches with regards to drugs  sex or violence  Its is hardcore  in the classic use of the word It is called OZ as that is the nickname given to the Oswald Maximum Security State Penitentary  It focuses mainly on Emerald City  an experimental section of the prison where all the cells have glass fronts and face inwards  so privacy is not high on the agenda  Em City is home to many  Aryans  Muslims  gangstas  Latinos  Christians  Italians  Irish and more    so scuffles  death stares  dodgy dealings and shady agreements are never far away I would say the main appeal of the show is due to the fact that it goes where other shows wouldn t dare  Forget pretty pictures painted for mainstream audiences  forget charm  forget romance   OZ doesn t mess around  The first episode I ever saw struck me as so nasty it was surreal  I couldn t say I was ready for it  but as I watched more  I developed a taste for Oz  and got accustomed to the high levels of graphic violence  Not just violence  but injustice  crooked guards who ll be sold out for a nickel  inmates who ll kill on order and get away with it  well mannered  middle class inmates being turned into prison bitches due to their lack of street skills or prison experience  Watching Oz  you may become comfortable with what is uncomfortable viewing    thats if you can get in touch with your darker side '"
            ]
          },
          "execution_count": 11,
          "metadata": {},
          "output_type": "execute_result"
        }
      ],
      "source": [
        "def is_special(text):\n",
        "    rem = ''\n",
        "    for i in text:\n",
        "        if i.isalpha():\n",
        "            rem = rem + i\n",
        "        else:\n",
        "            rem = rem + ' '\n",
        "    return rem\n",
        "\n",
        "df.review = df.review.apply(is_special)\n",
        "df.review[0]"
      ]
    },
    {
      "cell_type": "markdown",
      "metadata": {
        "id": "RZav7F9-VGpc"
      },
      "source": [
        "Finally, we convert the string into lowercase characters"
      ]
    },
    {
      "cell_type": "code",
      "execution_count": null,
      "metadata": {
        "colab": {
          "base_uri": "https://localhost:8080/",
          "height": 183
        },
        "id": "basQnrBReIKT",
        "outputId": "d2504fed-f091-44c9-a85e-5bf2c8534568"
      },
      "outputs": [
        {
          "data": {
            "text/plain": [
              "'one of the other reviewers has mentioned that after watching just   oz episode you ll be hooked  they are right  as this is exactly what happened with me the first thing that struck me about oz was its brutality and unflinching scenes of violence  which set in right from the word go  trust me  this is not a show for the faint hearted or timid  this show pulls no punches with regards to drugs  sex or violence  its is hardcore  in the classic use of the word it is called oz as that is the nickname given to the oswald maximum security state penitentary  it focuses mainly on emerald city  an experimental section of the prison where all the cells have glass fronts and face inwards  so privacy is not high on the agenda  em city is home to many  aryans  muslims  gangstas  latinos  christians  italians  irish and more    so scuffles  death stares  dodgy dealings and shady agreements are never far away i would say the main appeal of the show is due to the fact that it goes where other shows wouldn t dare  forget pretty pictures painted for mainstream audiences  forget charm  forget romance   oz doesn t mess around  the first episode i ever saw struck me as so nasty it was surreal  i couldn t say i was ready for it  but as i watched more  i developed a taste for oz  and got accustomed to the high levels of graphic violence  not just violence  but injustice  crooked guards who ll be sold out for a nickel  inmates who ll kill on order and get away with it  well mannered  middle class inmates being turned into prison bitches due to their lack of street skills or prison experience  watching oz  you may become comfortable with what is uncomfortable viewing    thats if you can get in touch with your darker side '"
            ]
          },
          "execution_count": 12,
          "metadata": {},
          "output_type": "execute_result"
        }
      ],
      "source": [
        "def to_lower(text):\n",
        "    return text.lower()\n",
        "\n",
        "df.review = df.review.apply(to_lower)\n",
        "df.review[0]"
      ]
    },
    {
      "cell_type": "markdown",
      "metadata": {
        "id": "-kNHgyMxVGpc"
      },
      "source": [
        "Here we use WordNetLemmatizer from NLTK library to lemmatize all the words present in the dataset. We store this preprocessed data in a list which we are then going to use to create our embedded vectors"
      ]
    },
    {
      "cell_type": "code",
      "execution_count": null,
      "metadata": {
        "colab": {
          "base_uri": "https://localhost:8080/",
          "height": 183
        },
        "id": "N_jN2XX27Dag",
        "outputId": "043836a8-4544-42a4-9563-fdf10c42df2a"
      },
      "outputs": [
        {
          "data": {
            "text/plain": [
              "'one reviewer mentioned watching oz episode hooked right exactly happened first thing struck oz brutality unflinching scene violence set right word go trust show faint hearted timid show pull punch regard drug sex violence hardcore classic use word called oz nickname given oswald maximum security state penitentary focus mainly emerald city experimental section prison cell glass front face inwards privacy high agenda em city home many aryan muslim gangsta latino christian italian irish scuffle death stare dodgy dealing shady agreement never far away would say main appeal show due fact go show dare forget pretty picture painted mainstream audience forget charm forget romance oz mess around first episode ever saw struck nasty surreal say ready watched developed taste oz got accustomed high level graphic violence violence injustice crooked guard sold nickel inmate kill order get away well mannered middle class inmate turned prison bitch due lack street skill prison experience watching oz may become comfortable uncomfortable viewing thats get touch darker side'"
            ]
          },
          "execution_count": 13,
          "metadata": {},
          "output_type": "execute_result"
        }
      ],
      "source": [
        "wordnet = WordNetLemmatizer()\n",
        "corpus = []\n",
        "\n",
        "#print(df.iloc[1,0])\n",
        "\n",
        "for i in range(0,len(df)):\n",
        " lem_review = [wordnet.lemmatize(word) for word in df.iloc[i,0].split() if word not in stopwords.words('english')]\n",
        " lem_review = ' '.join(lem_review)\n",
        " corpus.append(lem_review)\n",
        "\n",
        "corpus[0]"
      ]
    },
    {
      "cell_type": "markdown",
      "metadata": {
        "id": "g8_zjFG3VGpd"
      },
      "source": [
        "## Creating one hot encoded vectors from preprocessed data"
      ]
    },
    {
      "cell_type": "markdown",
      "metadata": {
        "id": "ocUAbI6DVGpd"
      },
      "source": [
        "We start of by using the Corpus list that we created from the preprocessed data to create a one hot encoded vector."
      ]
    },
    {
      "cell_type": "code",
      "execution_count": null,
      "metadata": {
        "colab": {
          "base_uri": "https://localhost:8080/"
        },
        "id": "p9MAfpctmexI",
        "outputId": "ede23cc2-46f9-472b-9f6f-7d6a80096414"
      },
      "outputs": [
        {
          "name": "stdout",
          "output_type": "stream",
          "text": [
            "92185\n"
          ]
        }
      ],
      "source": [
        "all_words = [word for words in corpus for word in words.split()]\n",
        "voc_size = len(set(all_words))\n",
        "print(voc_size)\n",
        "\n",
        "onehot_repr = [one_hot(words, voc_size) for words in corpus]"
      ]
    },
    {
      "cell_type": "code",
      "execution_count": null,
      "metadata": {
        "colab": {
          "base_uri": "https://localhost:8080/"
        },
        "id": "kp5OazBZnerk",
        "outputId": "41105f1f-5b3b-47bd-ee18-bbe16f97bfe9"
      },
      "outputs": [
        {
          "data": {
            "text/plain": [
              "1416"
            ]
          },
          "execution_count": 16,
          "metadata": {},
          "output_type": "execute_result"
        }
      ],
      "source": [
        "# determining the maximum length of one hot encoded vectors\n",
        "\n",
        "max_words = max(len(i) for i in onehot_repr)\n",
        "max_words"
      ]
    },
    {
      "cell_type": "code",
      "execution_count": null,
      "metadata": {
        "id": "5gTtX38bni4I"
      },
      "outputs": [],
      "source": [
        "# Padding and truncating to create same lenght vectors\n",
        "\n",
        "sentence_len = 200\n",
        "embedded_docs = pad_sequences(onehot_repr, padding='pre', maxlen=sentence_len)\n",
        "#embedded_docs[0]"
      ]
    },
    {
      "cell_type": "markdown",
      "metadata": {
        "id": "NmRdgbYGVGpe"
      },
      "source": [
        "## Splitting the input dataset into training and testing"
      ]
    },
    {
      "cell_type": "code",
      "execution_count": null,
      "metadata": {
        "id": "8xzQbSauVGpe"
      },
      "outputs": [],
      "source": [
        "X_final = np.array(embedded_docs)\n",
        "y_final = np.array(np.array(df.sentiment.values))\n",
        "X_train, X_test, y_train, y_test = train_test_split(X_final, y_final, test_size=0.3, random_state=42)"
      ]
    },
    {
      "cell_type": "markdown",
      "metadata": {
        "id": "bNrLBN7JVGpe"
      },
      "source": [
        "## Setting the architecture of our neural network"
      ]
    },
    {
      "cell_type": "markdown",
      "metadata": {
        "id": "QvUoNlPTVGpe"
      },
      "source": [
        "### Model 1:\n",
        "\n",
        "We start of by setting the size of embedded_vector as 120. We than add 5 layers of Bidirectional LSTM and then a dense layer. We set the activation function as 'Sigmoid' for our first model. And the loss as 'binary_crossentropy' and optimizer as 'adam'"
      ]
    },
    {
      "cell_type": "code",
      "execution_count": null,
      "metadata": {
        "colab": {
          "base_uri": "https://localhost:8080/"
        },
        "id": "MMVpu1lVfUST",
        "outputId": "3be1c408-1ca1-4f4c-e7c8-5c8922257d14"
      },
      "outputs": [
        {
          "name": "stdout",
          "output_type": "stream",
          "text": [
            "Model: \"sequential_2\"\n",
            "_________________________________________________________________\n",
            " Layer (type)                Output Shape              Param #   \n",
            "=================================================================\n",
            " embedding_1 (Embedding)     (None, 100, 120)          11062200  \n",
            "                                                                 \n",
            " bidirectional_5 (Bidirecti  (None, 100, 400)          513600    \n",
            " onal)                                                           \n",
            "                                                                 \n",
            " bidirectional_6 (Bidirecti  (None, 100, 200)          400800    \n",
            " onal)                                                           \n",
            "                                                                 \n",
            " bidirectional_7 (Bidirecti  (None, 100, 200)          240800    \n",
            " onal)                                                           \n",
            "                                                                 \n",
            " bidirectional_8 (Bidirecti  (None, 100, 200)          240800    \n",
            " onal)                                                           \n",
            "                                                                 \n",
            " bidirectional_9 (Bidirecti  (None, 100)               100400    \n",
            " onal)                                                           \n",
            "                                                                 \n",
            " dense_1 (Dense)             (None, 1)                 101       \n",
            "                                                                 \n",
            "=================================================================\n",
            "Total params: 12558701 (47.91 MB)\n",
            "Trainable params: 12558701 (47.91 MB)\n",
            "Non-trainable params: 0 (0.00 Byte)\n",
            "_________________________________________________________________\n"
          ]
        }
      ],
      "source": [
        "# creating the model architecture\n",
        "\n",
        "embedded_vector = 120\n",
        "model = Sequential()\n",
        "model.add(Embedding(voc_size, embedded_vector, input_length=sentence_len))\n",
        "model.add(Bidirectional(LSTM(200, return_sequences=True, input_shape=(120,1))))\n",
        "model.add(Bidirectional(LSTM(100, return_sequences=True)))\n",
        "model.add(Bidirectional(LSTM(100, return_sequences=True)))\n",
        "model.add(Bidirectional(LSTM(100, return_sequences=True)))\n",
        "model.add(Bidirectional(LSTM(50)))\n",
        "model.add(Dense(1, activation='sigmoid'))\n",
        "model.compile(loss='binary_crossentropy', optimizer='adam', metrics=['accuracy'])\n",
        "model.summary()"
      ]
    },
    {
      "cell_type": "markdown",
      "metadata": {
        "id": "aNeJaoTQVGpe"
      },
      "source": [
        " Using early stopping to prevent model from overfitting"
      ]
    },
    {
      "cell_type": "code",
      "execution_count": null,
      "metadata": {
        "id": "t84k9Nrwnv6P"
      },
      "outputs": [],
      "source": [
        "import tensorflow as tf\n",
        "\n",
        "early_stopping = tf.keras.callbacks.EarlyStopping(\n",
        "    monitor='val_loss',\n",
        "    mode='auto',\n",
        "    min_delta=0,\n",
        "    patience=3,\n",
        "    verbose=0,\n",
        "    restore_best_weights=True\n",
        ")"
      ]
    },
    {
      "cell_type": "markdown",
      "metadata": {
        "id": "W9rFVPagVGpf"
      },
      "source": [
        "Training the model"
      ]
    },
    {
      "cell_type": "code",
      "execution_count": null,
      "metadata": {
        "colab": {
          "base_uri": "https://localhost:8080/"
        },
        "id": "dp7pIvYBnxrd",
        "outputId": "5d1f332e-253a-446b-f618-d1b0a425f8d1"
      },
      "outputs": [
        {
          "name": "stdout",
          "output_type": "stream",
          "text": [
            "Epoch 1/20\n",
            "547/547 [==============================] - ETA: 0s - loss: 0.3713 - accuracy: 0.8356\n",
            "Epoch 1: saving model to training_1/cp.ckpt\n",
            "547/547 [==============================] - 982s 2s/step - loss: 0.3713 - accuracy: 0.8356 - val_loss: 0.3046 - val_accuracy: 0.8737\n",
            "Epoch 2/20\n",
            "547/547 [==============================] - ETA: 0s - loss: 0.1967 - accuracy: 0.9277\n",
            "Epoch 2: saving model to training_1/cp.ckpt\n",
            "547/547 [==============================] - 812s 1s/step - loss: 0.1967 - accuracy: 0.9277 - val_loss: 0.3292 - val_accuracy: 0.8719\n",
            "Epoch 3/20\n",
            "547/547 [==============================] - ETA: 0s - loss: 0.1152 - accuracy: 0.9602\n",
            "Epoch 3: saving model to training_1/cp.ckpt\n",
            "547/547 [==============================] - 489s 893ms/step - loss: 0.1152 - accuracy: 0.9602 - val_loss: 0.4032 - val_accuracy: 0.8645\n",
            "Epoch 4/20\n",
            "547/547 [==============================] - ETA: 0s - loss: 0.0664 - accuracy: 0.9787\n",
            "Epoch 4: saving model to training_1/cp.ckpt\n",
            "547/547 [==============================] - 488s 892ms/step - loss: 0.0664 - accuracy: 0.9787 - val_loss: 0.4828 - val_accuracy: 0.8640\n"
          ]
        },
        {
          "data": {
            "text/plain": [
              "<keras.src.callbacks.History at 0x1b21fdf10>"
            ]
          },
          "execution_count": 31,
          "metadata": {},
          "output_type": "execute_result"
        }
      ],
      "source": [
        "import os\n",
        "\n",
        "checkpoint_path = \"training_1/cp.ckpt\"\n",
        "checkpoint_dir = os.path.dirname(checkpoint_path)\n",
        "\n",
        "# Create a callback that saves the model's weights\n",
        "cp_callback = tf.keras.callbacks.ModelCheckpoint(filepath=checkpoint_path,\n",
        "                                                 save_weights_only=True,\n",
        "                                                 verbose=1)\n",
        "model.fit(\n",
        "    X_train,\n",
        "    y_train,\n",
        "    epochs=20,\n",
        "    callbacks=[cp_callback, early_stopping],\n",
        "    validation_data=(X_test,y_test),\n",
        "    batch_size=64,\n",
        "    verbose=1\n",
        ")"
      ]
    },
    {
      "cell_type": "markdown",
      "metadata": {
        "id": "q03SVN5WVGpf"
      },
      "source": [
        "Results of the testing:\n",
        "\n",
        "Model accuracy: 87.37%"
      ]
    },
    {
      "cell_type": "code",
      "execution_count": null,
      "metadata": {
        "id": "20DGpClqwdK7",
        "outputId": "dc89bbd1-c29f-499e-ea81-c9f4f1e0fd28"
      },
      "outputs": [
        {
          "name": "stdout",
          "output_type": "stream",
          "text": [
            "469/469 [==============================] - 70s 149ms/step - loss: 0.3046 - accuracy: 0.8737\n",
            "[0.30457445979118347, 0.8737333416938782]\n"
          ]
        }
      ],
      "source": [
        "result = model.evaluate(X_test, y_test)\n",
        "print(result)"
      ]
    },
    {
      "cell_type": "markdown",
      "metadata": {
        "id": "v07FM38EVGpg"
      },
      "source": [
        "### Model 2:\n",
        "\n",
        "Here we select a larger embedded_vector of size 200. We reduce the LSTM layers to 3 and change the activation function to 'tanh'"
      ]
    },
    {
      "cell_type": "code",
      "execution_count": null,
      "metadata": {
        "id": "VHt-gFd4VGpg",
        "outputId": "6d1f9f7b-d412-42f1-ef09-8e3fd0e8a343"
      },
      "outputs": [
        {
          "name": "stdout",
          "output_type": "stream",
          "text": [
            "Model: \"sequential_6\"\n",
            "_________________________________________________________________\n",
            " Layer (type)                Output Shape              Param #   \n",
            "=================================================================\n",
            " embedding_5 (Embedding)     (None, 200, 200)          18437000  \n",
            "                                                                 \n",
            " bidirectional_19 (Bidirect  (None, 200, 600)          1202400   \n",
            " ional)                                                          \n",
            "                                                                 \n",
            " bidirectional_20 (Bidirect  (None, 200, 200)          560800    \n",
            " ional)                                                          \n",
            "                                                                 \n",
            " bidirectional_21 (Bidirect  (None, 200, 200)          240800    \n",
            " ional)                                                          \n",
            "                                                                 \n",
            " bidirectional_22 (Bidirect  (None, 100)               100400    \n",
            " ional)                                                          \n",
            "                                                                 \n",
            " dense_5 (Dense)             (None, 1)                 101       \n",
            "                                                                 \n",
            "=================================================================\n",
            "Total params: 20541501 (78.36 MB)\n",
            "Trainable params: 20541501 (78.36 MB)\n",
            "Non-trainable params: 0 (0.00 Byte)\n",
            "_________________________________________________________________\n"
          ]
        }
      ],
      "source": [
        "# creating the model architecture for model 2\n",
        "\n",
        "embedded_vector = 200\n",
        "model_2 = Sequential()\n",
        "model_2.add(Embedding(voc_size, embedded_vector, input_length=sentence_len))\n",
        "model_2.add(Bidirectional(LSTM(300, return_sequences=True, input_shape=(200,1))))\n",
        "model_2.add(Bidirectional(LSTM(100, return_sequences=True)))\n",
        "model_2.add(Bidirectional(LSTM(100, return_sequences=True)))\n",
        "model_2.add(Bidirectional(LSTM(50)))\n",
        "model_2.add(Dense(1, activation='sigmoid'))\n",
        "model_2.compile(loss='binary_crossentropy', optimizer='adam', metrics=['accuracy'])\n",
        "model_2.summary()"
      ]
    },
    {
      "cell_type": "code",
      "execution_count": null,
      "metadata": {
        "id": "izZnRMDSVGpg"
      },
      "outputs": [],
      "source": [
        "early_stopping = tf.keras.callbacks.EarlyStopping(\n",
        "    monitor='val_loss',\n",
        "    mode='min',\n",
        "    min_delta=0,\n",
        "    patience=3,\n",
        "    verbose=1,\n",
        "    restore_best_weights=False\n",
        ")"
      ]
    },
    {
      "cell_type": "markdown",
      "metadata": {
        "id": "Z3aZqy_3VGpg"
      },
      "source": [
        "Training the model"
      ]
    },
    {
      "cell_type": "code",
      "execution_count": null,
      "metadata": {
        "id": "6WEfAPN0VGpg",
        "outputId": "337c7022-209b-44ca-a6ea-8bdfbb125461"
      },
      "outputs": [
        {
          "name": "stdout",
          "output_type": "stream",
          "text": [
            "Epoch 1/20\n",
            "547/547 [==============================] - ETA: 0s - loss: 0.3920 - accuracy: 0.8271\n",
            "Epoch 1: saving model to training_3/cp.ckpt\n",
            "547/547 [==============================] - 1385s 3s/step - loss: 0.3920 - accuracy: 0.8271 - val_loss: 0.3315 - val_accuracy: 0.8690\n",
            "Epoch 2/20\n",
            "547/547 [==============================] - ETA: 0s - loss: 0.2188 - accuracy: 0.9169\n",
            "Epoch 2: saving model to training_3/cp.ckpt\n",
            "547/547 [==============================] - 1282s 2s/step - loss: 0.2188 - accuracy: 0.9169 - val_loss: 0.3449 - val_accuracy: 0.8653\n",
            "Epoch 3/20\n",
            "547/547 [==============================] - ETA: 0s - loss: 0.1511 - accuracy: 0.9463\n",
            "Epoch 3: saving model to training_3/cp.ckpt\n",
            "547/547 [==============================] - 1258s 2s/step - loss: 0.1511 - accuracy: 0.9463 - val_loss: 0.3801 - val_accuracy: 0.8647\n",
            "Epoch 4/20\n",
            "547/547 [==============================] - ETA: 0s - loss: 0.1013 - accuracy: 0.9656\n",
            "Epoch 4: saving model to training_3/cp.ckpt\n",
            "547/547 [==============================] - 1281s 2s/step - loss: 0.1013 - accuracy: 0.9656 - val_loss: 0.3960 - val_accuracy: 0.8692\n",
            "Epoch 4: early stopping\n"
          ]
        },
        {
          "data": {
            "text/plain": [
              "<keras.src.callbacks.History at 0x1625d5f10>"
            ]
          },
          "execution_count": 51,
          "metadata": {},
          "output_type": "execute_result"
        }
      ],
      "source": [
        "checkpoint_path = \"training_3/cp.ckpt\"\n",
        "checkpoint_dir = os.path.dirname(checkpoint_path)\n",
        "\n",
        "# Create a callback that saves the model's weights\n",
        "cp_callback = tf.keras.callbacks.ModelCheckpoint(filepath=checkpoint_path,\n",
        "                                                 save_weights_only=True,\n",
        "                                                 verbose=1)\n",
        "model_2.fit(\n",
        "    X_train,\n",
        "    y_train,\n",
        "    epochs=20,\n",
        "    callbacks=[cp_callback, early_stopping],\n",
        "    validation_data=(X_test,y_test),\n",
        "    batch_size=64,\n",
        "    verbose=1\n",
        ")"
      ]
    },
    {
      "cell_type": "markdown",
      "metadata": {
        "id": "FjhNuQ0oVGph"
      },
      "source": [
        "Testing the model."
      ]
    },
    {
      "cell_type": "code",
      "execution_count": null,
      "metadata": {
        "id": "GiwMgVkPVGpl",
        "outputId": "0310ce1a-b64d-4e30-d2c3-d2bf6fc0fc89"
      },
      "outputs": [
        {
          "name": "stdout",
          "output_type": "stream",
          "text": [
            "469/469 [==============================] - 158s 337ms/step - loss: 0.3960 - accuracy: 0.8692\n",
            "[0.3960320055484772, 0.8691999912261963]\n"
          ]
        }
      ],
      "source": [
        "result = model_2.evaluate(X_test, y_test)\n",
        "print(result)"
      ]
    },
    {
      "cell_type": "markdown",
      "metadata": {
        "id": "Q1MxlScRVGpl"
      },
      "source": [
        "## Future Changes\n",
        "\n",
        "There is certainly room for changes in these models. A change in the architecture or a change in some paramter can improve the model. Further improvements to be done in this model with time."
      ]
    }
  ],
  "metadata": {
    "accelerator": "TPU",
    "colab": {
      "provenance": [],
      "include_colab_link": true
    },
    "kernelspec": {
      "display_name": "Python 3 (ipykernel)",
      "language": "python",
      "name": "python3"
    },
    "language_info": {
      "codemirror_mode": {
        "name": "ipython",
        "version": 3
      },
      "file_extension": ".py",
      "mimetype": "text/x-python",
      "name": "python",
      "nbconvert_exporter": "python",
      "pygments_lexer": "ipython3",
      "version": "3.11.4"
    }
  },
  "nbformat": 4,
  "nbformat_minor": 0
}